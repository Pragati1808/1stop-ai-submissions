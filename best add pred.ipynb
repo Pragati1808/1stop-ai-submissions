{
 "cells": [
  {
   "cell_type": "code",
   "execution_count": 4,
   "id": "02c781a0",
   "metadata": {},
   "outputs": [],
   "source": [
    "import numpy as np\n",
    "import pandas as pd\n",
    "import matplotlib.pyplot as plt\n",
    "import math"
   ]
  },
  {
   "cell_type": "code",
   "execution_count": 5,
   "id": "7a89c9b1",
   "metadata": {},
   "outputs": [],
   "source": [
    "df = pd.read_csv(\"Ads_CTR_Optimisation.csv\")"
   ]
  },
  {
   "cell_type": "code",
   "execution_count": 20,
   "id": "f047c216",
   "metadata": {},
   "outputs": [],
   "source": [
    "# method - ucb\n",
    "\n",
    "N , d , tr = 1000 , 10 , 0\n",
    "sel_ads = []\n",
    "no_of_sel , sum_rew = [0]*d , [0]*d\n",
    "\n",
    "for n in range (0,N):\n",
    "    ad , max_ub = 0 , 0\n",
    "    for i in range(0,d):\n",
    "        if no_of_sel[i]>0 :\n",
    "            avg_rew = sum_rew[i]/no_of_sel[i]\n",
    "            di = math.sqrt(3/2 * math.log(n+1)/no_of_sel[i])\n",
    "            ub = avg_rew + di\n",
    "        else: \n",
    "            ub =1e400\n",
    "        if ub>max_ub :\n",
    "            max_ub , ad = ub , i\n",
    "            \n",
    "    sel_ads.append(ad)\n",
    "    no_of_sel[ad] += 1\n",
    "    rew = df.values[n,ad]\n",
    "    sum_rew[ad] += rew \n",
    "    tr += rew"
   ]
  },
  {
   "cell_type": "code",
   "execution_count": 21,
   "id": "6930f709",
   "metadata": {},
   "outputs": [
    {
     "data": {
      "text/plain": [
       "(array([109.,  79.,  53.,  68., 287.,  53.,  86., 140.,  64.,  61.]),\n",
       " array([0. , 0.9, 1.8, 2.7, 3.6, 4.5, 5.4, 6.3, 7.2, 8.1, 9. ]),\n",
       " <BarContainer object of 10 artists>)"
      ]
     },
     "execution_count": 21,
     "metadata": {},
     "output_type": "execute_result"
    },
    {
     "data": {
      "image/png": "[encoded data removed]",
      "text/plain": [
       "<Figure size 432x288 with 1 Axes>"
      ]
     },
     "metadata": {
      "needs_background": "light"
     },
     "output_type": "display_data"
    }
   ],
   "source": [
    "# method - ucb\n",
    "\n",
    "plt.hist(sel_ads)"
   ]
  },
  {
   "cell_type": "code",
   "execution_count": 22,
   "id": "02bcd26c",
   "metadata": {},
   "outputs": [],
   "source": [
    "#method  - thompson sampling\n",
    "\n",
    "import random \n",
    "\n",
    "N , d , tr = 1000 , 10 , 0\n",
    "sel_ads = []\n",
    "no_of_rew_1 , no_of_rew_2 = [0]*d, [0]*d\n",
    "\n",
    "for n in range (0,N):\n",
    "    ad , max_rn = 0 , 0\n",
    "    for i in range(0,d):\n",
    "        rn_beta = random.betavariate(no_of_rew_1[i] +1 , no_of_rew_2[i] +1)\n",
    "        \n",
    "        if rn_beta > max_rn:\n",
    "            max_rn, ad= rn_beta,i\n",
    "    \n",
    "    sel_ads.append(ad)\n",
    "    rew = df.values[n,ad]\n",
    "    \n",
    "    if rew==1:\n",
    "        no_of_rew_1[ad]+= no_of_rew_1[ad]+1\n",
    "        \n",
    "    else:\n",
    "        no_of_rew_2[ad]+= no_of_rew_2[ad]+1\n",
    "    tr+=rew"
   ]
  },
  {
   "cell_type": "code",
   "execution_count": 23,
   "id": "4a618e7c",
   "metadata": {},
   "outputs": [
    {
     "data": {
      "text/plain": [
       "(array([ 98.,  99.,  77., 117., 138.,  73., 100., 126.,  94.,  78.]),\n",
       " array([0. , 0.9, 1.8, 2.7, 3.6, 4.5, 5.4, 6.3, 7.2, 8.1, 9. ]),\n",
       " <BarContainer object of 10 artists>)"
      ]
     },
     "execution_count": 23,
     "metadata": {},
     "output_type": "execute_result"
    },
    {
     "data": {
      "image/png": "[encoded data removed]",
      "text/plain": [
       "<Figure size 432x288 with 1 Axes>"
      ]
     },
     "metadata": {
      "needs_background": "light"
     },
     "output_type": "display_data"
    }
   ],
   "source": [
    "#method  - thompson sampling\n",
    "\n",
    "plt.hist(sel_ads)"
   ]
  },
  {
   "cell_type": "code",
   "execution_count": null,
   "id": "f7ffb246",
   "metadata": {},
   "outputs": [],
   "source": []
  }
 ],
 "metadata": {
  "kernelspec": {
   "display_name": "Python 3",
   "language": "python",
   "name": "python3"
  },
  "language_info": {
   "codemirror_mode": {
    "name": "ipython",
    "version": 3
   },
   "file_extension": ".py",
   "mimetype": "text/x-python",
   "name": "python",
   "nbconvert_exporter": "python",
   "pygments_lexer": "ipython3",
   "version": "3.8.8"
  }
 },
 "nbformat": 4,
 "nbformat_minor": 5
}
